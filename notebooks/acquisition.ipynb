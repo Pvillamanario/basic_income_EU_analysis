{
 "cells": [
  {
   "cell_type": "markdown",
   "metadata": {},
   "source": [
    "# Data acquisition:"
   ]
  },
  {
   "cell_type": "code",
   "execution_count": 21,
   "metadata": {},
   "outputs": [],
   "source": [
    "import pandas as pd\n",
    "from sqlalchemy import create_engine\n",
    "import requests\n",
    "from bs4 import BeautifulSoup as bs"
   ]
  },
  {
   "cell_type": "code",
   "execution_count": 22,
   "metadata": {},
   "outputs": [],
   "source": [
    "path = '../data/raw/raw_data_project_m1.db'\n",
    "engine = create_engine(f'sqlite:///{path}')"
   ]
  },
  {
   "cell_type": "code",
   "execution_count": 23,
   "metadata": {},
   "outputs": [
    {
     "data": {
      "text/html": [
       "<div>\n",
       "<style scoped>\n",
       "    .dataframe tbody tr th:only-of-type {\n",
       "        vertical-align: middle;\n",
       "    }\n",
       "\n",
       "    .dataframe tbody tr th {\n",
       "        vertical-align: top;\n",
       "    }\n",
       "\n",
       "    .dataframe thead th {\n",
       "        text-align: right;\n",
       "    }\n",
       "</style>\n",
       "<table border=\"1\" class=\"dataframe\">\n",
       "  <thead>\n",
       "    <tr style=\"text-align: right;\">\n",
       "      <th></th>\n",
       "      <th>type</th>\n",
       "      <th>name</th>\n",
       "      <th>tbl_name</th>\n",
       "      <th>rootpage</th>\n",
       "      <th>sql</th>\n",
       "    </tr>\n",
       "  </thead>\n",
       "  <tbody>\n",
       "    <tr>\n",
       "      <th>0</th>\n",
       "      <td>table</td>\n",
       "      <td>personal_info</td>\n",
       "      <td>personal_info</td>\n",
       "      <td>2</td>\n",
       "      <td>CREATE TABLE personal_info (\\n\\tuuid TEXT NOT ...</td>\n",
       "    </tr>\n",
       "    <tr>\n",
       "      <th>1</th>\n",
       "      <td>table</td>\n",
       "      <td>country_info</td>\n",
       "      <td>country_info</td>\n",
       "      <td>401</td>\n",
       "      <td>CREATE TABLE country_info (\\n\\tuuid TEXT NOT N...</td>\n",
       "    </tr>\n",
       "    <tr>\n",
       "      <th>2</th>\n",
       "      <td>table</td>\n",
       "      <td>career_info</td>\n",
       "      <td>career_info</td>\n",
       "      <td>762</td>\n",
       "      <td>CREATE TABLE career_info (\\n\\tuuid TEXT NOT NU...</td>\n",
       "    </tr>\n",
       "    <tr>\n",
       "      <th>3</th>\n",
       "      <td>table</td>\n",
       "      <td>poll_info</td>\n",
       "      <td>poll_info</td>\n",
       "      <td>1168</td>\n",
       "      <td>CREATE TABLE poll_info (\\n\\tuuid TEXT NOT NULL...</td>\n",
       "    </tr>\n",
       "  </tbody>\n",
       "</table>\n",
       "</div>"
      ],
      "text/plain": [
       "    type           name       tbl_name  rootpage  \\\n",
       "0  table  personal_info  personal_info         2   \n",
       "1  table   country_info   country_info       401   \n",
       "2  table    career_info    career_info       762   \n",
       "3  table      poll_info      poll_info      1168   \n",
       "\n",
       "                                                 sql  \n",
       "0  CREATE TABLE personal_info (\\n\\tuuid TEXT NOT ...  \n",
       "1  CREATE TABLE country_info (\\n\\tuuid TEXT NOT N...  \n",
       "2  CREATE TABLE career_info (\\n\\tuuid TEXT NOT NU...  \n",
       "3  CREATE TABLE poll_info (\\n\\tuuid TEXT NOT NULL...  "
      ]
     },
     "execution_count": 23,
     "metadata": {},
     "output_type": "execute_result"
    }
   ],
   "source": [
    "# Table summary\n",
    "\n",
    "pd.read_sql_query(\"SELECT * from sqlite_master WHERE type = 'table'\", engine)"
   ]
  },
  {
   "cell_type": "code",
   "execution_count": 24,
   "metadata": {},
   "outputs": [],
   "source": [
    "# Table acquisition\n",
    "\n",
    "df_personal_info = pd.read_sql_table('personal_info', engine)\n",
    "df_country_info =  pd.read_sql_table('country_info', engine)\n",
    "df_career_info =   pd.read_sql_table('career_info', engine)\n",
    "df_poll_info =     pd.read_sql_table('poll_info', engine)"
   ]
  },
  {
   "cell_type": "code",
   "execution_count": 25,
   "metadata": {},
   "outputs": [],
   "source": [
    "engine.dispose()"
   ]
  },
  {
   "cell_type": "code",
   "execution_count": null,
   "metadata": {},
   "outputs": [],
   "source": []
  },
  {
   "cell_type": "markdown",
   "metadata": {},
   "source": [
    "### Table 'personal_info'"
   ]
  },
  {
   "cell_type": "code",
   "execution_count": 26,
   "metadata": {},
   "outputs": [
    {
     "name": "stdout",
     "output_type": "stream",
     "text": [
      "personal_info table \n",
      "\n",
      "\n",
      "Rows: 9649\n",
      "Columns: 5\n",
      "\n",
      "\n",
      "Null values:\n",
      "\n",
      "uuid                0\n",
      "age                 0\n",
      "gender              0\n",
      "dem_has_children    0\n",
      "age_group           0\n",
      "dtype: int64 \n",
      "\n",
      "\n",
      "Data types:\n",
      "\n",
      "uuid                object\n",
      "age                 object\n",
      "gender              object\n",
      "dem_has_children    object\n",
      "age_group           object\n",
      "dtype: object\n"
     ]
    }
   ],
   "source": [
    "print('personal_info table \\n\\n')\n",
    "print(f'Rows: {df_personal_info.shape[0]}')\n",
    "print(f'Columns: {df_personal_info.shape[1]}\\n\\n')\n",
    "\n",
    "print('Null values:\\n')\n",
    "print(df_personal_info.isnull().sum(), '\\n\\n')\n",
    "\n",
    "print('Data types:\\n')\n",
    "print(df_personal_info.dtypes)\n",
    "\n",
    "df_personal_info.head(3)\n",
    "\n",
    "df_personal_info.to_parquet('../data/raw/personal_info.parquet')"
   ]
  },
  {
   "cell_type": "code",
   "execution_count": null,
   "metadata": {},
   "outputs": [],
   "source": []
  },
  {
   "cell_type": "markdown",
   "metadata": {},
   "source": [
    "### Table 'country_info':"
   ]
  },
  {
   "cell_type": "code",
   "execution_count": 7,
   "metadata": {},
   "outputs": [
    {
     "name": "stdout",
     "output_type": "stream",
     "text": [
      "country_info table \n",
      "\n",
      "\n",
      "Rows: 9649\n",
      "Columns: 3\n",
      "\n",
      "\n",
      "Null values:\n",
      "\n",
      "uuid            0\n",
      "country_code    0\n",
      "rural           0\n",
      "dtype: int64 \n",
      "\n",
      "\n",
      "Data types:\n",
      "\n",
      "uuid            object\n",
      "country_code    object\n",
      "rural           object\n",
      "dtype: object\n"
     ]
    }
   ],
   "source": [
    "print('country_info table \\n\\n')\n",
    "print(f'Rows: {df_country_info.shape[0]}')\n",
    "print(f'Columns: {df_country_info.shape[1]}\\n\\n')\n",
    "\n",
    "print('Null values:\\n')\n",
    "print(df_country_info.isnull().sum(), '\\n\\n')\n",
    "\n",
    "print('Data types:\\n')\n",
    "print(df_country_info.dtypes)\n",
    "\n",
    "df_country_info.head(3)\n",
    "\n",
    "df_country_info.to_parquet('../data/raw/country_info.parquet')"
   ]
  },
  {
   "cell_type": "markdown",
   "metadata": {},
   "source": [
    "### Table 'career_info':"
   ]
  },
  {
   "cell_type": "code",
   "execution_count": 8,
   "metadata": {},
   "outputs": [
    {
     "name": "stdout",
     "output_type": "stream",
     "text": [
      "career_info table \n",
      "\n",
      "\n",
      "Rows: 9649\n",
      "Columns: 4\n",
      "\n",
      "\n",
      "Null values:\n",
      "\n",
      "uuid                      0\n",
      "dem_education_level     663\n",
      "dem_full_time_job         0\n",
      "normalized_job_code    3947\n",
      "dtype: int64 \n",
      "\n",
      "\n",
      "Data types:\n",
      "\n",
      "uuid                   object\n",
      "dem_education_level    object\n",
      "dem_full_time_job      object\n",
      "normalized_job_code    object\n",
      "dtype: object\n"
     ]
    }
   ],
   "source": [
    "print('career_info table \\n\\n')\n",
    "print(f'Rows: {df_career_info.shape[0]}')\n",
    "print(f'Columns: {df_career_info.shape[1]}\\n\\n')\n",
    "\n",
    "print('Null values:\\n')\n",
    "print(df_career_info.isnull().sum(), '\\n\\n')\n",
    "\n",
    "print('Data types:\\n')\n",
    "print(df_career_info.dtypes)\n",
    "\n",
    "df_career_info['normalized_job_code'].fillna('None', inplace=True) # Null to str\n",
    "\n",
    "df_career_info.head(3)\n",
    "\n",
    "df_career_info.to_parquet('../data/raw/career_info.parquet')"
   ]
  },
  {
   "cell_type": "code",
   "execution_count": null,
   "metadata": {},
   "outputs": [],
   "source": []
  },
  {
   "cell_type": "markdown",
   "metadata": {},
   "source": [
    "### Table 'poll_info':"
   ]
  },
  {
   "cell_type": "code",
   "execution_count": 9,
   "metadata": {},
   "outputs": [
    {
     "name": "stdout",
     "output_type": "stream",
     "text": [
      "poll_info table \n",
      "\n",
      "\n",
      "Rows: 9649\n",
      "Columns: 6\n",
      "\n",
      "\n",
      "Null values:\n",
      "\n",
      "uuid                                                   0\n",
      "question_bbi_2016wave4_basicincome_awareness           0\n",
      "question_bbi_2016wave4_basicincome_vote                0\n",
      "question_bbi_2016wave4_basicincome_effect              0\n",
      "question_bbi_2016wave4_basicincome_argumentsfor        0\n",
      "question_bbi_2016wave4_basicincome_argumentsagainst    0\n",
      "dtype: int64 \n",
      "\n",
      "\n",
      "Data types:\n",
      "\n",
      "uuid                                                   object\n",
      "question_bbi_2016wave4_basicincome_awareness           object\n",
      "question_bbi_2016wave4_basicincome_vote                object\n",
      "question_bbi_2016wave4_basicincome_effect              object\n",
      "question_bbi_2016wave4_basicincome_argumentsfor        object\n",
      "question_bbi_2016wave4_basicincome_argumentsagainst    object\n",
      "dtype: object\n"
     ]
    }
   ],
   "source": [
    "print('poll_info table \\n\\n')\n",
    "print(f'Rows: {df_poll_info.shape[0]}')\n",
    "print(f'Columns: {df_poll_info.shape[1]}\\n\\n')\n",
    "\n",
    "print('Null values:\\n')\n",
    "print(df_poll_info.isnull().sum(), '\\n\\n')\n",
    "\n",
    "print('Data types:\\n')\n",
    "print(df_poll_info.dtypes)\n",
    "\n",
    "df_poll_info.head(3)\n",
    "\n",
    "df_poll_info.to_parquet('../data/raw/poll_info.parquet')"
   ]
  },
  {
   "cell_type": "code",
   "execution_count": null,
   "metadata": {},
   "outputs": [],
   "source": []
  },
  {
   "cell_type": "markdown",
   "metadata": {},
   "source": [
    "### API request df_career_info['normalized_job_code']"
   ]
  },
  {
   "cell_type": "code",
   "execution_count": 10,
   "metadata": {},
   "outputs": [],
   "source": [
    "norm_job_codes = df_career_info['normalized_job_code'].unique().tolist()\n",
    "\n",
    "norm_job_dic = {}"
   ]
  },
  {
   "cell_type": "code",
   "execution_count": 40,
   "metadata": {},
   "outputs": [
    {
     "name": "stdout",
     "output_type": "stream",
     "text": [
      "1min 54s ± 1.95 s per loop (mean ± std. dev. of 7 runs, 1 loop each)\n"
     ]
    }
   ],
   "source": [
    "%%timeit\n",
    "for i in norm_job_codes[1:]: #saltamos el none\n",
    "    \n",
    "    response = requests.get(f'http://api.dataatwork.org/v1/jobs/{i}')\n",
    "    norm_job_dic[i] = (response.json())['title']\n",
    "\n",
    "norm_job_dic['none'] = 'none' # Añadimos none al dic"
   ]
  },
  {
   "cell_type": "code",
   "execution_count": 12,
   "metadata": {},
   "outputs": [],
   "source": [
    "pd.DataFrame(norm_job_dic.items(), columns = ['normalized_job_code', 'title']).to_parquet('../data/raw/norm_job_codes-names.parquet')"
   ]
  },
  {
   "cell_type": "code",
   "execution_count": null,
   "metadata": {},
   "outputs": [],
   "source": []
  },
  {
   "cell_type": "code",
   "execution_count": null,
   "metadata": {},
   "outputs": [],
   "source": [
    "\n",
    "from progress.bar import Bar\n",
    "\n",
    "with Bar('Processing...') as bar:\n",
    "     for i in norm_job_codes[1:]: #saltamos el none\n",
    "\n",
    "            response = requests.get(f'http://api.dataatwork.org/v1/jobs/{i}')\n",
    "            norm_job_dic[i] = (response.json())['title']\n",
    "            bar.next()\n",
    "\n",
    "\n",
    "\n"
   ]
  },
  {
   "cell_type": "code",
   "execution_count": 37,
   "metadata": {},
   "outputs": [],
   "source": [
    "def basic_widget_example():\n",
    "    widgets = [progressbar.Percentage(), progressbar.Bar()]\n",
    "    bar = progressbar.ProgressBar(widgets=widgets, max_value=10).start()\n",
    "    for i in range(10):\n",
    "        \n",
    "        for i in norm_job_codes[1:]: #saltamos el none\n",
    "            response = requests.get(f'http://api.dataatwork.org/v1/jobs/{i}')\n",
    "            norm_job_dic[i] = (response.json())['title']\n",
    "        \n",
    "        bar.update(i + 1)\n",
    "    bar.finish()"
   ]
  },
  {
   "cell_type": "code",
   "execution_count": 38,
   "metadata": {},
   "outputs": [
    {
     "ename": "TypeError",
     "evalue": "__init__() got an unexpected keyword argument 'max_value'",
     "output_type": "error",
     "traceback": [
      "\u001b[0;31m---------------------------------------------------------------------------\u001b[0m",
      "\u001b[0;31mTypeError\u001b[0m                                 Traceback (most recent call last)",
      "\u001b[0;32m<ipython-input-38-b7cf33f9af46>\u001b[0m in \u001b[0;36m<module>\u001b[0;34m\u001b[0m\n\u001b[0;32m----> 1\u001b[0;31m \u001b[0mbasic_widget_example\u001b[0m\u001b[0;34m(\u001b[0m\u001b[0;34m)\u001b[0m\u001b[0;34m\u001b[0m\u001b[0;34m\u001b[0m\u001b[0m\n\u001b[0m",
      "\u001b[0;32m<ipython-input-37-256dee3ad064>\u001b[0m in \u001b[0;36mbasic_widget_example\u001b[0;34m()\u001b[0m\n\u001b[1;32m      1\u001b[0m \u001b[0;32mdef\u001b[0m \u001b[0mbasic_widget_example\u001b[0m\u001b[0;34m(\u001b[0m\u001b[0;34m)\u001b[0m\u001b[0;34m:\u001b[0m\u001b[0;34m\u001b[0m\u001b[0;34m\u001b[0m\u001b[0m\n\u001b[1;32m      2\u001b[0m     \u001b[0mwidgets\u001b[0m \u001b[0;34m=\u001b[0m \u001b[0;34m[\u001b[0m\u001b[0mprogressbar\u001b[0m\u001b[0;34m.\u001b[0m\u001b[0mPercentage\u001b[0m\u001b[0;34m(\u001b[0m\u001b[0;34m)\u001b[0m\u001b[0;34m,\u001b[0m \u001b[0mprogressbar\u001b[0m\u001b[0;34m.\u001b[0m\u001b[0mBar\u001b[0m\u001b[0;34m(\u001b[0m\u001b[0;34m)\u001b[0m\u001b[0;34m]\u001b[0m\u001b[0;34m\u001b[0m\u001b[0;34m\u001b[0m\u001b[0m\n\u001b[0;32m----> 3\u001b[0;31m     \u001b[0mbar\u001b[0m \u001b[0;34m=\u001b[0m \u001b[0mprogressbar\u001b[0m\u001b[0;34m.\u001b[0m\u001b[0mProgressBar\u001b[0m\u001b[0;34m(\u001b[0m\u001b[0mwidgets\u001b[0m\u001b[0;34m=\u001b[0m\u001b[0mwidgets\u001b[0m\u001b[0;34m,\u001b[0m \u001b[0mmax_value\u001b[0m\u001b[0;34m=\u001b[0m\u001b[0;36m10\u001b[0m\u001b[0;34m)\u001b[0m\u001b[0;34m.\u001b[0m\u001b[0mstart\u001b[0m\u001b[0;34m(\u001b[0m\u001b[0;34m)\u001b[0m\u001b[0;34m\u001b[0m\u001b[0;34m\u001b[0m\u001b[0m\n\u001b[0m\u001b[1;32m      4\u001b[0m     \u001b[0;32mfor\u001b[0m \u001b[0mi\u001b[0m \u001b[0;32min\u001b[0m \u001b[0mrange\u001b[0m\u001b[0;34m(\u001b[0m\u001b[0;36m10\u001b[0m\u001b[0;34m)\u001b[0m\u001b[0;34m:\u001b[0m\u001b[0;34m\u001b[0m\u001b[0;34m\u001b[0m\u001b[0m\n\u001b[1;32m      5\u001b[0m \u001b[0;34m\u001b[0m\u001b[0m\n",
      "\u001b[0;31mTypeError\u001b[0m: __init__() got an unexpected keyword argument 'max_value'"
     ]
    }
   ],
   "source": [
    "basic_widget_example()"
   ]
  },
  {
   "cell_type": "code",
   "execution_count": null,
   "metadata": {},
   "outputs": [],
   "source": []
  },
  {
   "cell_type": "markdown",
   "metadata": {},
   "source": [
    "### API request country code"
   ]
  },
  {
   "cell_type": "code",
   "execution_count": 13,
   "metadata": {},
   "outputs": [],
   "source": [
    "country_code_list = df_country_info['country_code'].unique().tolist()\n",
    "country_dic = {}"
   ]
  },
  {
   "cell_type": "code",
   "execution_count": 14,
   "metadata": {},
   "outputs": [],
   "source": [
    "for i in country_code_list:\n",
    "    \n",
    "    response = requests.get(f'https://restcountries.eu/rest/v2/alpha/{i}')\n",
    "    country_dic[i] = (response.json())['name'] "
   ]
  },
  {
   "cell_type": "code",
   "execution_count": 15,
   "metadata": {},
   "outputs": [],
   "source": [
    "pd.DataFrame(country_dic.items(), columns=['country_code', 'country_name']).to_parquet('../data/raw/api_country_code-name.parquet')"
   ]
  },
  {
   "cell_type": "code",
   "execution_count": null,
   "metadata": {},
   "outputs": [],
   "source": []
  },
  {
   "cell_type": "markdown",
   "metadata": {},
   "source": [
    "### Web scraping country code"
   ]
  },
  {
   "cell_type": "code",
   "execution_count": 16,
   "metadata": {},
   "outputs": [],
   "source": [
    "url = 'https://ec.europa.eu/eurostat/statistics-explained/index.php/Glossary:Country_codes'\n",
    "html = requests.get(url).content"
   ]
  },
  {
   "cell_type": "code",
   "execution_count": 17,
   "metadata": {},
   "outputs": [],
   "source": [
    "soup = bs(html, 'lxml')\n",
    "soup = soup.find_all('td')\n",
    "\n",
    "lst = []\n",
    "\n",
    "for i in soup:\n",
    "    if str(i) != ' ':\n",
    "        lst.append(str(i)[4:-6])"
   ]
  },
  {
   "cell_type": "code",
   "execution_count": 18,
   "metadata": {},
   "outputs": [],
   "source": [
    "countries = []\n",
    "codes = []\n",
    "\n",
    "for i in range(0, len(lst[:56])):  # Hasta UK\n",
    "    if i % 2 == 0:\n",
    "        countries.append(lst[i])\n",
    "    else:\n",
    "        codes.append((lst[i].strip())[1:-1])\n",
    "\n",
    "df_countries = pd.DataFrame(zip(countries, codes), columns=['country', 'code'])\n",
    "df_countries.replace(' United Kingdom', 'United_Kingdom', inplace= True)\n",
    "df_countries.to_parquet('../data/raw/webscraping_country_code-name.parquet')"
   ]
  },
  {
   "cell_type": "code",
   "execution_count": 20,
   "metadata": {},
   "outputs": [
    {
     "data": {
      "text/html": [
       "<div>\n",
       "<style scoped>\n",
       "    .dataframe tbody tr th:only-of-type {\n",
       "        vertical-align: middle;\n",
       "    }\n",
       "\n",
       "    .dataframe tbody tr th {\n",
       "        vertical-align: top;\n",
       "    }\n",
       "\n",
       "    .dataframe thead th {\n",
       "        text-align: right;\n",
       "    }\n",
       "</style>\n",
       "<table border=\"1\" class=\"dataframe\">\n",
       "  <thead>\n",
       "    <tr style=\"text-align: right;\">\n",
       "      <th></th>\n",
       "      <th>country</th>\n",
       "      <th>code</th>\n",
       "    </tr>\n",
       "  </thead>\n",
       "  <tbody>\n",
       "    <tr>\n",
       "      <th>0</th>\n",
       "      <td>Belgium</td>\n",
       "      <td>BE</td>\n",
       "    </tr>\n",
       "    <tr>\n",
       "      <th>1</th>\n",
       "      <td>Greece</td>\n",
       "      <td>EL</td>\n",
       "    </tr>\n",
       "    <tr>\n",
       "      <th>2</th>\n",
       "      <td>Lithuania</td>\n",
       "      <td>LT</td>\n",
       "    </tr>\n",
       "    <tr>\n",
       "      <th>3</th>\n",
       "      <td>Portugal</td>\n",
       "      <td>PT</td>\n",
       "    </tr>\n",
       "    <tr>\n",
       "      <th>4</th>\n",
       "      <td>Bulgaria</td>\n",
       "      <td>BG</td>\n",
       "    </tr>\n",
       "    <tr>\n",
       "      <th>5</th>\n",
       "      <td>Spain</td>\n",
       "      <td>ES</td>\n",
       "    </tr>\n",
       "    <tr>\n",
       "      <th>6</th>\n",
       "      <td>Luxembourg</td>\n",
       "      <td>LU</td>\n",
       "    </tr>\n",
       "    <tr>\n",
       "      <th>7</th>\n",
       "      <td>Romania</td>\n",
       "      <td>RO</td>\n",
       "    </tr>\n",
       "    <tr>\n",
       "      <th>8</th>\n",
       "      <td>Czechia</td>\n",
       "      <td>CZ</td>\n",
       "    </tr>\n",
       "    <tr>\n",
       "      <th>9</th>\n",
       "      <td>France</td>\n",
       "      <td>FR</td>\n",
       "    </tr>\n",
       "    <tr>\n",
       "      <th>10</th>\n",
       "      <td>Hungary</td>\n",
       "      <td>HU</td>\n",
       "    </tr>\n",
       "    <tr>\n",
       "      <th>11</th>\n",
       "      <td>Slovenia</td>\n",
       "      <td>SI</td>\n",
       "    </tr>\n",
       "    <tr>\n",
       "      <th>12</th>\n",
       "      <td>Denmark</td>\n",
       "      <td>DK</td>\n",
       "    </tr>\n",
       "    <tr>\n",
       "      <th>13</th>\n",
       "      <td>Croatia</td>\n",
       "      <td>HR</td>\n",
       "    </tr>\n",
       "    <tr>\n",
       "      <th>14</th>\n",
       "      <td>Malta</td>\n",
       "      <td>MT</td>\n",
       "    </tr>\n",
       "    <tr>\n",
       "      <th>15</th>\n",
       "      <td>Slovakia</td>\n",
       "      <td>SK</td>\n",
       "    </tr>\n",
       "    <tr>\n",
       "      <th>16</th>\n",
       "      <td>Germany</td>\n",
       "      <td>DE</td>\n",
       "    </tr>\n",
       "    <tr>\n",
       "      <th>17</th>\n",
       "      <td>Italy</td>\n",
       "      <td>IT</td>\n",
       "    </tr>\n",
       "    <tr>\n",
       "      <th>18</th>\n",
       "      <td>Netherlands</td>\n",
       "      <td>NL</td>\n",
       "    </tr>\n",
       "    <tr>\n",
       "      <th>19</th>\n",
       "      <td>Finland</td>\n",
       "      <td>FI</td>\n",
       "    </tr>\n",
       "    <tr>\n",
       "      <th>20</th>\n",
       "      <td>Estonia</td>\n",
       "      <td>EE</td>\n",
       "    </tr>\n",
       "    <tr>\n",
       "      <th>21</th>\n",
       "      <td>Cyprus</td>\n",
       "      <td>CY</td>\n",
       "    </tr>\n",
       "    <tr>\n",
       "      <th>22</th>\n",
       "      <td>Austria</td>\n",
       "      <td>AT</td>\n",
       "    </tr>\n",
       "    <tr>\n",
       "      <th>23</th>\n",
       "      <td>Sweden</td>\n",
       "      <td>SE</td>\n",
       "    </tr>\n",
       "    <tr>\n",
       "      <th>24</th>\n",
       "      <td>Ireland</td>\n",
       "      <td>IE</td>\n",
       "    </tr>\n",
       "    <tr>\n",
       "      <th>25</th>\n",
       "      <td>Latvia</td>\n",
       "      <td>LV</td>\n",
       "    </tr>\n",
       "    <tr>\n",
       "      <th>26</th>\n",
       "      <td>Poland</td>\n",
       "      <td>PL</td>\n",
       "    </tr>\n",
       "    <tr>\n",
       "      <th>27</th>\n",
       "      <td>United_Kingdom</td>\n",
       "      <td>UK</td>\n",
       "    </tr>\n",
       "  </tbody>\n",
       "</table>\n",
       "</div>"
      ],
      "text/plain": [
       "           country code\n",
       "0          Belgium   BE\n",
       "1           Greece   EL\n",
       "2        Lithuania   LT\n",
       "3         Portugal   PT\n",
       "4         Bulgaria   BG\n",
       "5            Spain   ES\n",
       "6       Luxembourg   LU\n",
       "7          Romania   RO\n",
       "8          Czechia   CZ\n",
       "9           France   FR\n",
       "10         Hungary   HU\n",
       "11        Slovenia   SI\n",
       "12         Denmark   DK\n",
       "13         Croatia   HR\n",
       "14           Malta   MT\n",
       "15        Slovakia   SK\n",
       "16         Germany   DE\n",
       "17           Italy   IT\n",
       "18     Netherlands   NL\n",
       "19         Finland   FI\n",
       "20         Estonia   EE\n",
       "21          Cyprus   CY\n",
       "22         Austria   AT\n",
       "23          Sweden   SE\n",
       "24         Ireland   IE\n",
       "25          Latvia   LV\n",
       "26          Poland   PL\n",
       "27  United_Kingdom   UK"
      ]
     },
     "execution_count": 20,
     "metadata": {},
     "output_type": "execute_result"
    }
   ],
   "source": [
    "df_countries"
   ]
  },
  {
   "cell_type": "code",
   "execution_count": null,
   "metadata": {},
   "outputs": [],
   "source": []
  }
 ],
 "metadata": {
  "kernelspec": {
   "display_name": "Python [conda env:ironhack_env]",
   "language": "python",
   "name": "conda-env-ironhack_env-py"
  },
  "language_info": {
   "codemirror_mode": {
    "name": "ipython",
    "version": 3
   },
   "file_extension": ".py",
   "mimetype": "text/x-python",
   "name": "python",
   "nbconvert_exporter": "python",
   "pygments_lexer": "ipython3",
   "version": "3.7.7"
  }
 },
 "nbformat": 4,
 "nbformat_minor": 4
}
